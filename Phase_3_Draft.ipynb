{
  "nbformat": 4,
  "nbformat_minor": 0,
  "metadata": {
    "colab": {
      "provenance": [],
      "authorship_tag": "ABX9TyPTrazWaf0DIq7S198xWzx4",
      "include_colab_link": true
    },
    "kernelspec": {
      "name": "python3",
      "display_name": "Python 3"
    },
    "language_info": {
      "name": "python"
    }
  },
  "cells": [
    {
      "cell_type": "markdown",
      "metadata": {
        "id": "view-in-github",
        "colab_type": "text"
      },
      "source": [
        "<a href=\"https://colab.research.google.com/github/ChrisMunyi/Phase_3_Project/blob/main/Phase_3_Draft.ipynb\" target=\"_parent\"><img src=\"https://colab.research.google.com/assets/colab-badge.svg\" alt=\"Open In Colab\"/></a>"
      ]
    },
    {
      "cell_type": "markdown",
      "source": [
        ">>[1.0 Exploratory Data Analysis (EDA)](#scrollTo=kALafOD7TlQR)\n",
        "\n",
        ">>>[1.01. Data Overview](#scrollTo=kALafOD7TlQR)\n",
        "\n",
        ">>>[1.02. Data Summary](#scrollTo=ptrxzssCTup0)\n",
        "\n",
        ">>>[1.03. Class Distribution](#scrollTo=l3OOFWijTxv1)\n",
        "\n",
        ">>>[1.04. Data Visualization](#scrollTo=Cw8ijzaQT0S1)\n",
        "\n",
        ">>>[1.05. Feature Analysis](#scrollTo=Ch5xQGFuT2zM)\n",
        "\n",
        ">>>[1.06. Correlation Analysis](#scrollTo=bh9WuX6BT4UW)\n",
        "\n",
        ">>>[1.07. Feature Engineering](#scrollTo=f7TLf2APT7Xk)\n",
        "\n",
        ">>>[1.08. Outlier Detection and Handling](#scrollTo=FQG7pt_XT-TU)\n",
        "\n",
        ">>>[1.09. Data Preprocessing](#scrollTo=Etpbb3jHUB-b)\n",
        "\n",
        ">>>[1.10. Class Imbalance Handling](#scrollTo=u-GbjBZyUDiC)\n",
        "\n",
        ">>>[1.11. Feature Selection](#scrollTo=tjUsAaCMUONd)\n",
        "\n",
        ">>>[1.12. Dimensionality Reduction](#scrollTo=5ondKyOHUOtV)\n",
        "\n",
        ">>>[1.13. Model Building](#scrollTo=_ftob6OBUraD)\n",
        "\n",
        ">>>[1.14. Further Analysis](#scrollTo=Uumd_sBFUtJD)\n",
        "\n",
        ">>>[1.15. Documentation and Reporting](#scrollTo=jV4TDkpeUxGC)\n",
        "\n",
        ">>[Model Construction](#scrollTo=WCB9kOfxoZ0k)\n",
        "\n",
        ">>>[2.01. Logistic Regression](#scrollTo=Bj-kflm9pKQC)\n",
        "\n",
        ">>>[2.02. Decision](#scrollTo=xZcS6GNhpeFl)\n",
        "\n",
        ">>>[2.03. k-Nearest Neighbors](#scrollTo=eJSczgGRpgoD)\n",
        "\n",
        ">>>[2.04. Naive Bayes](#scrollTo=2neDn8UGpkLD)\n",
        "\n",
        ">>>[2.05. Gradient Boosting (XGBoost)](#scrollTo=9IvjNKg0p-RQ)\n",
        "\n",
        ">>[Hypeparamater Tuning](#scrollTo=AQCJaUSv89w6)\n",
        "\n",
        ">>>[3.01 Hyperparameter Tuning for Logistic Regression Model](#scrollTo=qtQRebKt-9fK)\n",
        "\n",
        ">>>[3.02 Hyperparameter Tuning for Decision Trees Model](#scrollTo=zFplrnmx9uJ7)\n",
        "\n",
        ">>>[3.03 Hyperparameter Tuning for k-Nearest Neighbors Model](#scrollTo=QN5pE7WKAlrA)\n",
        "\n",
        ">>>[3.04 Hyperparameter Tuning for Naive Bayes Model](#scrollTo=nOxRLO7SAnng)\n",
        "\n",
        ">>[Model Deployment](#scrollTo=tkw-mTfgJ1ra)\n",
        "\n",
        ">>[Model Deployment in a Jupyter Notebook](#scrollTo=_FYHfIMGJVhK)\n",
        "\n",
        ">>[Monitoring and Maintenance](#scrollTo=CDJJC_OZIhge)\n",
        "\n",
        ">>>[Performance Metrics Tracking for Logistic Regression Model:](#scrollTo=Db2wLTVOJMA7)\n",
        "\n",
        ">>>[Performance Metrics Tracking for Decision Tree Model:](#scrollTo=0Zg2DBaeI8vA)\n",
        "\n",
        ">>[Interpretability](#scrollTo=QIFmbGCWHtFT)\n",
        "\n"
      ],
      "metadata": {
        "colab_type": "toc",
        "id": "LYjY39wT8Ekp"
      }
    },
    {
      "cell_type": "code",
      "execution_count": 1,
      "metadata": {
        "id": "itFIUe8BI_is"
      },
      "outputs": [],
      "source": [
        "import pandas as pd\n",
        "import matplotlib.pyplot as plt\n",
        "import seaborn as sns"
      ]
    },
    {
      "cell_type": "code",
      "source": [
        "from sklearn.model_selection import train_test_split\n",
        "from sklearn.preprocessing import StandardScaler\n",
        "from sklearn.ensemble import RandomForestClassifier\n",
        "from sklearn.metrics import accuracy_score, classification_report, confusion_matrix"
      ],
      "metadata": {
        "id": "iCCjJFNnSW6H"
      },
      "execution_count": 2,
      "outputs": []
    },
    {
      "cell_type": "code",
      "source": [
        "from sklearn.linear_model import LogisticRegression\n",
        "from sklearn.tree import DecisionTreeClassifier\n",
        "from sklearn.neighbors import KNeighborsClassifier\n",
        "from sklearn.naive_bayes import GaussianNB\n",
        "from xgboost import XGBClassifier"
      ],
      "metadata": {
        "id": "HMHZbjvhoyrq"
      },
      "execution_count": 3,
      "outputs": []
    },
    {
      "cell_type": "code",
      "source": [
        "# Load the dataset\n",
        "#!wget --quiet \"https://data.cityofchicago.org/api/views/85ca-t3if/rows.csv\""
      ],
      "metadata": {
        "id": "WEwNG0eFQMgy"
      },
      "execution_count": 1,
      "outputs": []
    },
    {
      "cell_type": "code",
      "source": [
        "#column_names = [\"ID\", \"Diagnosis\"] + [f\"Feature_{i}\" for i in range(30)]\n",
        "#data = pd.read_csv(\"wdbc.data\", names=column_names)\n",
        "data = pd.read_csv(\"SyriaTel.csv\")\n",
        "data.head()"
      ],
      "metadata": {
        "id": "Zn-lY9LoQSXj",
        "colab": {
          "base_uri": "https://localhost:8080/",
          "height": 270
        },
        "outputId": "a829d0ea-36c7-4a6d-9263-b90d89e0de6e"
      },
      "execution_count": 4,
      "outputs": [
        {
          "output_type": "execute_result",
          "data": {
            "text/plain": [
              "  state  account length  area code phone number international plan  \\\n",
              "0    KS             128        415     382-4657                 no   \n",
              "1    OH             107        415     371-7191                 no   \n",
              "2    NJ             137        415     358-1921                 no   \n",
              "3    OH              84        408     375-9999                yes   \n",
              "4    OK              75        415     330-6626                yes   \n",
              "\n",
              "  voice mail plan  number vmail messages  total day minutes  total day calls  \\\n",
              "0             yes                     25              265.1              110   \n",
              "1             yes                     26              161.6              123   \n",
              "2              no                      0              243.4              114   \n",
              "3              no                      0              299.4               71   \n",
              "4              no                      0              166.7              113   \n",
              "\n",
              "   total day charge  ...  total eve calls  total eve charge  \\\n",
              "0             45.07  ...               99             16.78   \n",
              "1             27.47  ...              103             16.62   \n",
              "2             41.38  ...              110             10.30   \n",
              "3             50.90  ...               88              5.26   \n",
              "4             28.34  ...              122             12.61   \n",
              "\n",
              "   total night minutes  total night calls  total night charge  \\\n",
              "0                244.7                 91               11.01   \n",
              "1                254.4                103               11.45   \n",
              "2                162.6                104                7.32   \n",
              "3                196.9                 89                8.86   \n",
              "4                186.9                121                8.41   \n",
              "\n",
              "   total intl minutes  total intl calls  total intl charge  \\\n",
              "0                10.0                 3               2.70   \n",
              "1                13.7                 3               3.70   \n",
              "2                12.2                 5               3.29   \n",
              "3                 6.6                 7               1.78   \n",
              "4                10.1                 3               2.73   \n",
              "\n",
              "   customer service calls  churn  \n",
              "0                       1  False  \n",
              "1                       1  False  \n",
              "2                       0  False  \n",
              "3                       2  False  \n",
              "4                       3  False  \n",
              "\n",
              "[5 rows x 21 columns]"
            ],
            "text/html": [
              "\n",
              "  <div id=\"df-5cb51a4b-7371-4ff4-b5d9-f272dabdb47b\" class=\"colab-df-container\">\n",
              "    <div>\n",
              "<style scoped>\n",
              "    .dataframe tbody tr th:only-of-type {\n",
              "        vertical-align: middle;\n",
              "    }\n",
              "\n",
              "    .dataframe tbody tr th {\n",
              "        vertical-align: top;\n",
              "    }\n",
              "\n",
              "    .dataframe thead th {\n",
              "        text-align: right;\n",
              "    }\n",
              "</style>\n",
              "<table border=\"1\" class=\"dataframe\">\n",
              "  <thead>\n",
              "    <tr style=\"text-align: right;\">\n",
              "      <th></th>\n",
              "      <th>state</th>\n",
              "      <th>account length</th>\n",
              "      <th>area code</th>\n",
              "      <th>phone number</th>\n",
              "      <th>international plan</th>\n",
              "      <th>voice mail plan</th>\n",
              "      <th>number vmail messages</th>\n",
              "      <th>total day minutes</th>\n",
              "      <th>total day calls</th>\n",
              "      <th>total day charge</th>\n",
              "      <th>...</th>\n",
              "      <th>total eve calls</th>\n",
              "      <th>total eve charge</th>\n",
              "      <th>total night minutes</th>\n",
              "      <th>total night calls</th>\n",
              "      <th>total night charge</th>\n",
              "      <th>total intl minutes</th>\n",
              "      <th>total intl calls</th>\n",
              "      <th>total intl charge</th>\n",
              "      <th>customer service calls</th>\n",
              "      <th>churn</th>\n",
              "    </tr>\n",
              "  </thead>\n",
              "  <tbody>\n",
              "    <tr>\n",
              "      <th>0</th>\n",
              "      <td>KS</td>\n",
              "      <td>128</td>\n",
              "      <td>415</td>\n",
              "      <td>382-4657</td>\n",
              "      <td>no</td>\n",
              "      <td>yes</td>\n",
              "      <td>25</td>\n",
              "      <td>265.1</td>\n",
              "      <td>110</td>\n",
              "      <td>45.07</td>\n",
              "      <td>...</td>\n",
              "      <td>99</td>\n",
              "      <td>16.78</td>\n",
              "      <td>244.7</td>\n",
              "      <td>91</td>\n",
              "      <td>11.01</td>\n",
              "      <td>10.0</td>\n",
              "      <td>3</td>\n",
              "      <td>2.70</td>\n",
              "      <td>1</td>\n",
              "      <td>False</td>\n",
              "    </tr>\n",
              "    <tr>\n",
              "      <th>1</th>\n",
              "      <td>OH</td>\n",
              "      <td>107</td>\n",
              "      <td>415</td>\n",
              "      <td>371-7191</td>\n",
              "      <td>no</td>\n",
              "      <td>yes</td>\n",
              "      <td>26</td>\n",
              "      <td>161.6</td>\n",
              "      <td>123</td>\n",
              "      <td>27.47</td>\n",
              "      <td>...</td>\n",
              "      <td>103</td>\n",
              "      <td>16.62</td>\n",
              "      <td>254.4</td>\n",
              "      <td>103</td>\n",
              "      <td>11.45</td>\n",
              "      <td>13.7</td>\n",
              "      <td>3</td>\n",
              "      <td>3.70</td>\n",
              "      <td>1</td>\n",
              "      <td>False</td>\n",
              "    </tr>\n",
              "    <tr>\n",
              "      <th>2</th>\n",
              "      <td>NJ</td>\n",
              "      <td>137</td>\n",
              "      <td>415</td>\n",
              "      <td>358-1921</td>\n",
              "      <td>no</td>\n",
              "      <td>no</td>\n",
              "      <td>0</td>\n",
              "      <td>243.4</td>\n",
              "      <td>114</td>\n",
              "      <td>41.38</td>\n",
              "      <td>...</td>\n",
              "      <td>110</td>\n",
              "      <td>10.30</td>\n",
              "      <td>162.6</td>\n",
              "      <td>104</td>\n",
              "      <td>7.32</td>\n",
              "      <td>12.2</td>\n",
              "      <td>5</td>\n",
              "      <td>3.29</td>\n",
              "      <td>0</td>\n",
              "      <td>False</td>\n",
              "    </tr>\n",
              "    <tr>\n",
              "      <th>3</th>\n",
              "      <td>OH</td>\n",
              "      <td>84</td>\n",
              "      <td>408</td>\n",
              "      <td>375-9999</td>\n",
              "      <td>yes</td>\n",
              "      <td>no</td>\n",
              "      <td>0</td>\n",
              "      <td>299.4</td>\n",
              "      <td>71</td>\n",
              "      <td>50.90</td>\n",
              "      <td>...</td>\n",
              "      <td>88</td>\n",
              "      <td>5.26</td>\n",
              "      <td>196.9</td>\n",
              "      <td>89</td>\n",
              "      <td>8.86</td>\n",
              "      <td>6.6</td>\n",
              "      <td>7</td>\n",
              "      <td>1.78</td>\n",
              "      <td>2</td>\n",
              "      <td>False</td>\n",
              "    </tr>\n",
              "    <tr>\n",
              "      <th>4</th>\n",
              "      <td>OK</td>\n",
              "      <td>75</td>\n",
              "      <td>415</td>\n",
              "      <td>330-6626</td>\n",
              "      <td>yes</td>\n",
              "      <td>no</td>\n",
              "      <td>0</td>\n",
              "      <td>166.7</td>\n",
              "      <td>113</td>\n",
              "      <td>28.34</td>\n",
              "      <td>...</td>\n",
              "      <td>122</td>\n",
              "      <td>12.61</td>\n",
              "      <td>186.9</td>\n",
              "      <td>121</td>\n",
              "      <td>8.41</td>\n",
              "      <td>10.1</td>\n",
              "      <td>3</td>\n",
              "      <td>2.73</td>\n",
              "      <td>3</td>\n",
              "      <td>False</td>\n",
              "    </tr>\n",
              "  </tbody>\n",
              "</table>\n",
              "<p>5 rows × 21 columns</p>\n",
              "</div>\n",
              "    <div class=\"colab-df-buttons\">\n",
              "\n",
              "  <div class=\"colab-df-container\">\n",
              "    <button class=\"colab-df-convert\" onclick=\"convertToInteractive('df-5cb51a4b-7371-4ff4-b5d9-f272dabdb47b')\"\n",
              "            title=\"Convert this dataframe to an interactive table.\"\n",
              "            style=\"display:none;\">\n",
              "\n",
              "  <svg xmlns=\"http://www.w3.org/2000/svg\" height=\"24px\" viewBox=\"0 -960 960 960\">\n",
              "    <path d=\"M120-120v-720h720v720H120Zm60-500h600v-160H180v160Zm220 220h160v-160H400v160Zm0 220h160v-160H400v160ZM180-400h160v-160H180v160Zm440 0h160v-160H620v160ZM180-180h160v-160H180v160Zm440 0h160v-160H620v160Z\"/>\n",
              "  </svg>\n",
              "    </button>\n",
              "\n",
              "  <style>\n",
              "    .colab-df-container {\n",
              "      display:flex;\n",
              "      gap: 12px;\n",
              "    }\n",
              "\n",
              "    .colab-df-convert {\n",
              "      background-color: #E8F0FE;\n",
              "      border: none;\n",
              "      border-radius: 50%;\n",
              "      cursor: pointer;\n",
              "      display: none;\n",
              "      fill: #1967D2;\n",
              "      height: 32px;\n",
              "      padding: 0 0 0 0;\n",
              "      width: 32px;\n",
              "    }\n",
              "\n",
              "    .colab-df-convert:hover {\n",
              "      background-color: #E2EBFA;\n",
              "      box-shadow: 0px 1px 2px rgba(60, 64, 67, 0.3), 0px 1px 3px 1px rgba(60, 64, 67, 0.15);\n",
              "      fill: #174EA6;\n",
              "    }\n",
              "\n",
              "    .colab-df-buttons div {\n",
              "      margin-bottom: 4px;\n",
              "    }\n",
              "\n",
              "    [theme=dark] .colab-df-convert {\n",
              "      background-color: #3B4455;\n",
              "      fill: #D2E3FC;\n",
              "    }\n",
              "\n",
              "    [theme=dark] .colab-df-convert:hover {\n",
              "      background-color: #434B5C;\n",
              "      box-shadow: 0px 1px 3px 1px rgba(0, 0, 0, 0.15);\n",
              "      filter: drop-shadow(0px 1px 2px rgba(0, 0, 0, 0.3));\n",
              "      fill: #FFFFFF;\n",
              "    }\n",
              "  </style>\n",
              "\n",
              "    <script>\n",
              "      const buttonEl =\n",
              "        document.querySelector('#df-5cb51a4b-7371-4ff4-b5d9-f272dabdb47b button.colab-df-convert');\n",
              "      buttonEl.style.display =\n",
              "        google.colab.kernel.accessAllowed ? 'block' : 'none';\n",
              "\n",
              "      async function convertToInteractive(key) {\n",
              "        const element = document.querySelector('#df-5cb51a4b-7371-4ff4-b5d9-f272dabdb47b');\n",
              "        const dataTable =\n",
              "          await google.colab.kernel.invokeFunction('convertToInteractive',\n",
              "                                                    [key], {});\n",
              "        if (!dataTable) return;\n",
              "\n",
              "        const docLinkHtml = 'Like what you see? Visit the ' +\n",
              "          '<a target=\"_blank\" href=https://colab.research.google.com/notebooks/data_table.ipynb>data table notebook</a>'\n",
              "          + ' to learn more about interactive tables.';\n",
              "        element.innerHTML = '';\n",
              "        dataTable['output_type'] = 'display_data';\n",
              "        await google.colab.output.renderOutput(dataTable, element);\n",
              "        const docLink = document.createElement('div');\n",
              "        docLink.innerHTML = docLinkHtml;\n",
              "        element.appendChild(docLink);\n",
              "      }\n",
              "    </script>\n",
              "  </div>\n",
              "\n",
              "\n",
              "<div id=\"df-a885baa6-fca6-419d-be96-e88c617f4004\">\n",
              "  <button class=\"colab-df-quickchart\" onclick=\"quickchart('df-a885baa6-fca6-419d-be96-e88c617f4004')\"\n",
              "            title=\"Suggest charts.\"\n",
              "            style=\"display:none;\">\n",
              "\n",
              "<svg xmlns=\"http://www.w3.org/2000/svg\" height=\"24px\"viewBox=\"0 0 24 24\"\n",
              "     width=\"24px\">\n",
              "    <g>\n",
              "        <path d=\"M19 3H5c-1.1 0-2 .9-2 2v14c0 1.1.9 2 2 2h14c1.1 0 2-.9 2-2V5c0-1.1-.9-2-2-2zM9 17H7v-7h2v7zm4 0h-2V7h2v10zm4 0h-2v-4h2v4z\"/>\n",
              "    </g>\n",
              "</svg>\n",
              "  </button>\n",
              "\n",
              "<style>\n",
              "  .colab-df-quickchart {\n",
              "      --bg-color: #E8F0FE;\n",
              "      --fill-color: #1967D2;\n",
              "      --hover-bg-color: #E2EBFA;\n",
              "      --hover-fill-color: #174EA6;\n",
              "      --disabled-fill-color: #AAA;\n",
              "      --disabled-bg-color: #DDD;\n",
              "  }\n",
              "\n",
              "  [theme=dark] .colab-df-quickchart {\n",
              "      --bg-color: #3B4455;\n",
              "      --fill-color: #D2E3FC;\n",
              "      --hover-bg-color: #434B5C;\n",
              "      --hover-fill-color: #FFFFFF;\n",
              "      --disabled-bg-color: #3B4455;\n",
              "      --disabled-fill-color: #666;\n",
              "  }\n",
              "\n",
              "  .colab-df-quickchart {\n",
              "    background-color: var(--bg-color);\n",
              "    border: none;\n",
              "    border-radius: 50%;\n",
              "    cursor: pointer;\n",
              "    display: none;\n",
              "    fill: var(--fill-color);\n",
              "    height: 32px;\n",
              "    padding: 0;\n",
              "    width: 32px;\n",
              "  }\n",
              "\n",
              "  .colab-df-quickchart:hover {\n",
              "    background-color: var(--hover-bg-color);\n",
              "    box-shadow: 0 1px 2px rgba(60, 64, 67, 0.3), 0 1px 3px 1px rgba(60, 64, 67, 0.15);\n",
              "    fill: var(--button-hover-fill-color);\n",
              "  }\n",
              "\n",
              "  .colab-df-quickchart-complete:disabled,\n",
              "  .colab-df-quickchart-complete:disabled:hover {\n",
              "    background-color: var(--disabled-bg-color);\n",
              "    fill: var(--disabled-fill-color);\n",
              "    box-shadow: none;\n",
              "  }\n",
              "\n",
              "  .colab-df-spinner {\n",
              "    border: 2px solid var(--fill-color);\n",
              "    border-color: transparent;\n",
              "    border-bottom-color: var(--fill-color);\n",
              "    animation:\n",
              "      spin 1s steps(1) infinite;\n",
              "  }\n",
              "\n",
              "  @keyframes spin {\n",
              "    0% {\n",
              "      border-color: transparent;\n",
              "      border-bottom-color: var(--fill-color);\n",
              "      border-left-color: var(--fill-color);\n",
              "    }\n",
              "    20% {\n",
              "      border-color: transparent;\n",
              "      border-left-color: var(--fill-color);\n",
              "      border-top-color: var(--fill-color);\n",
              "    }\n",
              "    30% {\n",
              "      border-color: transparent;\n",
              "      border-left-color: var(--fill-color);\n",
              "      border-top-color: var(--fill-color);\n",
              "      border-right-color: var(--fill-color);\n",
              "    }\n",
              "    40% {\n",
              "      border-color: transparent;\n",
              "      border-right-color: var(--fill-color);\n",
              "      border-top-color: var(--fill-color);\n",
              "    }\n",
              "    60% {\n",
              "      border-color: transparent;\n",
              "      border-right-color: var(--fill-color);\n",
              "    }\n",
              "    80% {\n",
              "      border-color: transparent;\n",
              "      border-right-color: var(--fill-color);\n",
              "      border-bottom-color: var(--fill-color);\n",
              "    }\n",
              "    90% {\n",
              "      border-color: transparent;\n",
              "      border-bottom-color: var(--fill-color);\n",
              "    }\n",
              "  }\n",
              "</style>\n",
              "\n",
              "  <script>\n",
              "    async function quickchart(key) {\n",
              "      const quickchartButtonEl =\n",
              "        document.querySelector('#' + key + ' button');\n",
              "      quickchartButtonEl.disabled = true;  // To prevent multiple clicks.\n",
              "      quickchartButtonEl.classList.add('colab-df-spinner');\n",
              "      try {\n",
              "        const charts = await google.colab.kernel.invokeFunction(\n",
              "            'suggestCharts', [key], {});\n",
              "      } catch (error) {\n",
              "        console.error('Error during call to suggestCharts:', error);\n",
              "      }\n",
              "      quickchartButtonEl.classList.remove('colab-df-spinner');\n",
              "      quickchartButtonEl.classList.add('colab-df-quickchart-complete');\n",
              "    }\n",
              "    (() => {\n",
              "      let quickchartButtonEl =\n",
              "        document.querySelector('#df-a885baa6-fca6-419d-be96-e88c617f4004 button');\n",
              "      quickchartButtonEl.style.display =\n",
              "        google.colab.kernel.accessAllowed ? 'block' : 'none';\n",
              "    })();\n",
              "  </script>\n",
              "</div>\n",
              "    </div>\n",
              "  </div>\n"
            ]
          },
          "metadata": {},
          "execution_count": 4
        }
      ]
    },
    {
      "cell_type": "markdown",
      "source": [
        "Machine learning classification is a type of supervised learning technique in the field of artificial intelligence and data science. Its primary goal is to categorize or classify data points into predefined categories or classes based on their features. Classification is used in various applications, such as spam email detection, medical diagnosis, image recognition, sentiment analysis, and more.\n",
        "\n",
        "Here are the key components and steps involved in machine learning classification:\n",
        "\n",
        "**1. Data Preparation:** The first step is to gather and preprocess the data. This involves collecting labeled data, cleaning, and formatting it for use in the machine learning model.\n",
        "\n",
        "**2. Feature Extraction:** Data features or attributes that describe each data point must be selected. Feature extraction and engineering are crucial in classification as they can significantly impact the model's performance.\n",
        "\n",
        "**3. Data Splitting:** The data is typically split into two subsets: a training set and a testing set. The training set is used to train the classification model, and the testing set is used to evaluate its performance.\n",
        "\n",
        "**4. Model Selection:** You choose a classification algorithm or model. Some common classification algorithms include:\n",
        "\n",
        "- Logistic Regression\n",
        "- Decision Trees\n",
        "- Random Forest\n",
        "- Support Vector Machines (SVM)\n",
        "- k-Nearest Neighbors (k-NN)\n",
        "- Neural Networks (Deep Learning)\n",
        "- Naive Bayes\n",
        "- Gradient Boosting (e.g., XGBoost, LightGBM)\n",
        "\n",
        "**5. Model Training:** The selected model is trained using the training data. The model learns to map the input features to the corresponding class labels by adjusting its internal parameters.\n",
        "\n",
        "**6. Model Evaluation:** The model's performance is assessed using the testing data. Common evaluation metrics for classification models include accuracy, precision, recall, F1-score, and area under the ROC curve (AUC).\n",
        "\n",
        "**7. Hyperparameter Tuning:** Fine-tuning the model's hyperparameters can improve its performance. Techniques like grid search and random search can be used to find the best hyperparameter values.\n",
        "\n",
        "**8. Model Deployment:** Once the model performs well, it can be deployed in a real-world application, where it can classify new, unseen data.\n",
        "\n",
        "**9. Monitoring and Maintenance:** Continuous monitoring and updates may be necessary to ensure that the model remains accurate and relevant, as data distributions and requirements can change over time.\n",
        "\n",
        "**10. Interpretability:** Understanding the model's decisions can be crucial, especially in sensitive applications. Techniques like feature importance analysis and model explainability tools can help interpret the model's predictions.\n",
        "\n",
        "It's important to note that the choice of classification algorithm depends on the nature of the data and the problem you are trying to solve. Different algorithms may perform better for different types of data, so experimentation and model selection based on performance are key components of the classification process."
      ],
      "metadata": {
        "id": "BVOI3BYkltjb"
      }
    },
    {
      "cell_type": "markdown",
      "source": [
        "## 1.0 Exploratory Data Analysis (EDA)\n",
        "\n",
        "### 1.01. Data Overview"
      ],
      "metadata": {
        "id": "kALafOD7TlQR"
      }
    },
    {
      "cell_type": "code",
      "execution_count": 5,
      "metadata": {
        "id": "l1TO87H1S8un",
        "colab": {
          "base_uri": "https://localhost:8080/"
        },
        "outputId": "b6d2a08e-da9e-4580-c911-8d8eae2c14b1"
      },
      "outputs": [
        {
          "output_type": "stream",
          "name": "stdout",
          "text": [
            "Data Overview:\n",
            "  state  account length  area code phone number international plan  \\\n",
            "0    KS             128        415     382-4657                 no   \n",
            "1    OH             107        415     371-7191                 no   \n",
            "2    NJ             137        415     358-1921                 no   \n",
            "3    OH              84        408     375-9999                yes   \n",
            "4    OK              75        415     330-6626                yes   \n",
            "\n",
            "  voice mail plan  number vmail messages  total day minutes  total day calls  \\\n",
            "0             yes                     25              265.1              110   \n",
            "1             yes                     26              161.6              123   \n",
            "2              no                      0              243.4              114   \n",
            "3              no                      0              299.4               71   \n",
            "4              no                      0              166.7              113   \n",
            "\n",
            "   total day charge  ...  total eve calls  total eve charge  \\\n",
            "0             45.07  ...               99             16.78   \n",
            "1             27.47  ...              103             16.62   \n",
            "2             41.38  ...              110             10.30   \n",
            "3             50.90  ...               88              5.26   \n",
            "4             28.34  ...              122             12.61   \n",
            "\n",
            "   total night minutes  total night calls  total night charge  \\\n",
            "0                244.7                 91               11.01   \n",
            "1                254.4                103               11.45   \n",
            "2                162.6                104                7.32   \n",
            "3                196.9                 89                8.86   \n",
            "4                186.9                121                8.41   \n",
            "\n",
            "   total intl minutes  total intl calls  total intl charge  \\\n",
            "0                10.0                 3               2.70   \n",
            "1                13.7                 3               3.70   \n",
            "2                12.2                 5               3.29   \n",
            "3                 6.6                 7               1.78   \n",
            "4                10.1                 3               2.73   \n",
            "\n",
            "   customer service calls  churn  \n",
            "0                       1  False  \n",
            "1                       1  False  \n",
            "2                       0  False  \n",
            "3                       2  False  \n",
            "4                       3  False  \n",
            "\n",
            "[5 rows x 21 columns]\n",
            "\n",
            "Data Info:\n",
            "<class 'pandas.core.frame.DataFrame'>\n",
            "RangeIndex: 3333 entries, 0 to 3332\n",
            "Data columns (total 21 columns):\n",
            " #   Column                  Non-Null Count  Dtype  \n",
            "---  ------                  --------------  -----  \n",
            " 0   state                   3333 non-null   object \n",
            " 1   account length          3333 non-null   int64  \n",
            " 2   area code               3333 non-null   int64  \n",
            " 3   phone number            3333 non-null   object \n",
            " 4   international plan      3333 non-null   object \n",
            " 5   voice mail plan         3333 non-null   object \n",
            " 6   number vmail messages   3333 non-null   int64  \n",
            " 7   total day minutes       3333 non-null   float64\n",
            " 8   total day calls         3333 non-null   int64  \n",
            " 9   total day charge        3333 non-null   float64\n",
            " 10  total eve minutes       3333 non-null   float64\n",
            " 11  total eve calls         3333 non-null   int64  \n",
            " 12  total eve charge        3333 non-null   float64\n",
            " 13  total night minutes     3333 non-null   float64\n",
            " 14  total night calls       3333 non-null   int64  \n",
            " 15  total night charge      3333 non-null   float64\n",
            " 16  total intl minutes      3333 non-null   float64\n",
            " 17  total intl calls        3333 non-null   int64  \n",
            " 18  total intl charge       3333 non-null   float64\n",
            " 19  customer service calls  3333 non-null   int64  \n",
            " 20  churn                   3333 non-null   bool   \n",
            "dtypes: bool(1), float64(8), int64(8), object(4)\n",
            "memory usage: 524.2+ KB\n",
            "None\n"
          ]
        }
      ],
      "source": [
        "print(\"Data Overview:\")\n",
        "print(data.head())\n",
        "print(\"\\nData Info:\")\n",
        "print(data.info())"
      ]
    },
    {
      "cell_type": "markdown",
      "source": [
        "### 1.02. Data Summary"
      ],
      "metadata": {
        "id": "ptrxzssCTup0"
      }
    },
    {
      "cell_type": "code",
      "source": [
        "print(\"\\nSummary Statistics:\")\n",
        "print(data.describe())"
      ],
      "metadata": {
        "id": "AeHgNdenTwHH",
        "colab": {
          "base_uri": "https://localhost:8080/"
        },
        "outputId": "bcd1e62b-a7c6-43b4-9d3c-54005be9750c"
      },
      "execution_count": 6,
      "outputs": [
        {
          "output_type": "stream",
          "name": "stdout",
          "text": [
            "\n",
            "Summary Statistics:\n",
            "       account length    area code  number vmail messages  total day minutes  \\\n",
            "count     3333.000000  3333.000000            3333.000000        3333.000000   \n",
            "mean       101.064806   437.182418               8.099010         179.775098   \n",
            "std         39.822106    42.371290              13.688365          54.467389   \n",
            "min          1.000000   408.000000               0.000000           0.000000   \n",
            "25%         74.000000   408.000000               0.000000         143.700000   \n",
            "50%        101.000000   415.000000               0.000000         179.400000   \n",
            "75%        127.000000   510.000000              20.000000         216.400000   \n",
            "max        243.000000   510.000000              51.000000         350.800000   \n",
            "\n",
            "       total day calls  total day charge  total eve minutes  total eve calls  \\\n",
            "count      3333.000000       3333.000000        3333.000000      3333.000000   \n",
            "mean        100.435644         30.562307         200.980348       100.114311   \n",
            "std          20.069084          9.259435          50.713844        19.922625   \n",
            "min           0.000000          0.000000           0.000000         0.000000   \n",
            "25%          87.000000         24.430000         166.600000        87.000000   \n",
            "50%         101.000000         30.500000         201.400000       100.000000   \n",
            "75%         114.000000         36.790000         235.300000       114.000000   \n",
            "max         165.000000         59.640000         363.700000       170.000000   \n",
            "\n",
            "       total eve charge  total night minutes  total night calls  \\\n",
            "count       3333.000000          3333.000000        3333.000000   \n",
            "mean          17.083540           200.872037         100.107711   \n",
            "std            4.310668            50.573847          19.568609   \n",
            "min            0.000000            23.200000          33.000000   \n",
            "25%           14.160000           167.000000          87.000000   \n",
            "50%           17.120000           201.200000         100.000000   \n",
            "75%           20.000000           235.300000         113.000000   \n",
            "max           30.910000           395.000000         175.000000   \n",
            "\n",
            "       total night charge  total intl minutes  total intl calls  \\\n",
            "count         3333.000000         3333.000000       3333.000000   \n",
            "mean             9.039325           10.237294          4.479448   \n",
            "std              2.275873            2.791840          2.461214   \n",
            "min              1.040000            0.000000          0.000000   \n",
            "25%              7.520000            8.500000          3.000000   \n",
            "50%              9.050000           10.300000          4.000000   \n",
            "75%             10.590000           12.100000          6.000000   \n",
            "max             17.770000           20.000000         20.000000   \n",
            "\n",
            "       total intl charge  customer service calls  \n",
            "count        3333.000000             3333.000000  \n",
            "mean            2.764581                1.562856  \n",
            "std             0.753773                1.315491  \n",
            "min             0.000000                0.000000  \n",
            "25%             2.300000                1.000000  \n",
            "50%             2.780000                1.000000  \n",
            "75%             3.270000                2.000000  \n",
            "max             5.400000                9.000000  \n"
          ]
        }
      ]
    },
    {
      "cell_type": "markdown",
      "source": [
        "### 1.03. Class Distribution"
      ],
      "metadata": {
        "id": "l3OOFWijTxv1"
      }
    },
    {
      "cell_type": "code",
      "source": [
        "print(\"\\nClass Distribution:\")\n",
        "print(data[\"churn\"].value_counts())"
      ],
      "metadata": {
        "id": "YnElI2ruTy-3",
        "colab": {
          "base_uri": "https://localhost:8080/"
        },
        "outputId": "0d86d862-a41d-4e06-db9b-04fca2487fb6"
      },
      "execution_count": 7,
      "outputs": [
        {
          "output_type": "stream",
          "name": "stdout",
          "text": [
            "\n",
            "Class Distribution:\n",
            "False    2850\n",
            "True      483\n",
            "Name: churn, dtype: int64\n"
          ]
        }
      ]
    },
    {
      "cell_type": "markdown",
      "source": [
        "### 1.04. Data Visualization"
      ],
      "metadata": {
        "id": "Cw8ijzaQT0S1"
      }
    },
    {
      "cell_type": "code",
      "source": [
        "plt.figure(figsize=(8, 5))\n",
        "data[\"churn\"] = data[\"churn\"].replace(to_replace=[False, True], value=[0, 1])\n",
        "sns.histplot(data[\"churn\"])\n",
        "plt.title(\"Churn Distribution\")\n",
        "plt.show()"
      ],
      "metadata": {
        "id": "vk1ryNC7T1ek",
        "colab": {
          "base_uri": "https://localhost:8080/",
          "height": 487
        },
        "outputId": "50edc39d-fd85-4426-d368-559254aa4c46"
      },
      "execution_count": 8,
      "outputs": [
        {
          "output_type": "display_data",
          "data": {
            "text/plain": [
              "<Figure size 800x500 with 1 Axes>"
            ],
            "image/png": "[encoded data removed]"
          },
          "metadata": {}
        }
      ]
    },
    {
      "cell_type": "markdown",
      "source": [
        "### 1.05. Feature Analysis"
      ],
      "metadata": {
        "id": "Ch5xQGFuT2zM"
      }
    },
    {
      "cell_type": "code",
      "source": [
        "# Step 5: Feature Analysis\n",
        "# Let's examine a couple of features, e.g., \"Feature_0\" and \"Feature_1\"\n",
        "plt.figure(figsize=(12, 5))\n",
        "plt.subplot(1, 2, 1)\n",
        "sns.histplot(data[\"total day charge\"], bins=30, kde=True)\n",
        "plt.title(\"total day charge Distribution\")\n",
        "plt.subplot(1, 2, 2)\n",
        "sns.histplot(data[\"total eve charge\"], bins=30, kde=True)\n",
        "plt.title(\"total eve charge Distribution\")\n",
        "plt.show()"
      ],
      "metadata": {
        "id": "HRPj6R_6T4Al",
        "colab": {
          "base_uri": "https://localhost:8080/",
          "height": 487
        },
        "outputId": "77349805-6d69-43ea-af0f-050ae9617865"
      },
      "execution_count": 14,
      "outputs": [
        {
          "output_type": "display_data",
          "data": {
            "text/plain": [
              "<Figure size 1200x500 with 2 Axes>"
            ],
            "image/png": "[encoded data removed]"
          },
          "metadata": {}
        }
      ]
    },
    {
      "cell_type": "code",
      "source": [
        "plt.figure(figsize=(12, 5))\n",
        "plt.subplot(1, 2, 1)\n",
        "sns.histplot(data[\"total night charge\"], bins=30, kde=True)\n",
        "plt.title(\"total day charge Distribution\")\n",
        "plt.subplot(1, 2, 2)\n",
        "sns.histplot(data[\"total intl charge\"], bins=30, kde=True)\n",
        "plt.title(\"total intl charge Distribution\")\n",
        "plt.show()"
      ],
      "metadata": {
        "colab": {
          "base_uri": "https://localhost:8080/",
          "height": 487
        },
        "id": "CLrs53fe3YAk",
        "outputId": "5b25a8e1-825d-4407-8e54-25b117aaebde"
      },
      "execution_count": 15,
      "outputs": [
        {
          "output_type": "display_data",
          "data": {
            "text/plain": [
              "<Figure size 1200x500 with 2 Axes>"
            ],
            "image/png": "[encoded data removed]"
          },
          "metadata": {}
        }
      ]
    },
    {
      "cell_type": "markdown",
      "source": [
        "### 1.06. Correlation Analysis"
      ],
      "metadata": {
        "id": "bh9WuX6BT4UW"
      }
    },
    {
      "cell_type": "code",
      "source": [
        "# Visualize the correlation matrix as a heatmap\n",
        "plt.figure(figsize=(12, 8))\n",
        "sns.heatmap(corr_matrix, cmap=\"coolwarm\", annot=False)\n",
        "plt.title(\"Feature Correlation Matrix\")\n",
        "plt.show()"
      ],
      "metadata": {
        "colab": {
          "base_uri": "https://localhost:8080/",
          "height": 274
        },
        "id": "p6q_QT6mmUTh",
        "outputId": "ba220989-1011-416b-a70f-4fc13e1ddba3"
      },
      "execution_count": 16,
      "outputs": [
        {
          "output_type": "error",
          "ename": "NameError",
          "evalue": "ignored",
          "traceback": [
            "\u001b[0;31m---------------------------------------------------------------------------\u001b[0m",
            "\u001b[0;31mNameError\u001b[0m                                 Traceback (most recent call last)",
            "\u001b[0;32m<ipython-input-16-e9c63e6e7be8>\u001b[0m in \u001b[0;36m<cell line: 3>\u001b[0;34m()\u001b[0m\n\u001b[1;32m      1\u001b[0m \u001b[0;31m# Visualize the correlation matrix as a heatmap\u001b[0m\u001b[0;34m\u001b[0m\u001b[0;34m\u001b[0m\u001b[0m\n\u001b[1;32m      2\u001b[0m \u001b[0mplt\u001b[0m\u001b[0;34m.\u001b[0m\u001b[0mfigure\u001b[0m\u001b[0;34m(\u001b[0m\u001b[0mfigsize\u001b[0m\u001b[0;34m=\u001b[0m\u001b[0;34m(\u001b[0m\u001b[0;36m12\u001b[0m\u001b[0;34m,\u001b[0m \u001b[0;36m8\u001b[0m\u001b[0;34m)\u001b[0m\u001b[0;34m)\u001b[0m\u001b[0;34m\u001b[0m\u001b[0;34m\u001b[0m\u001b[0m\n\u001b[0;32m----> 3\u001b[0;31m \u001b[0msns\u001b[0m\u001b[0;34m.\u001b[0m\u001b[0mheatmap\u001b[0m\u001b[0;34m(\u001b[0m\u001b[0mcorr_matrix\u001b[0m\u001b[0;34m,\u001b[0m \u001b[0mcmap\u001b[0m\u001b[0;34m=\u001b[0m\u001b[0;34m\"coolwarm\"\u001b[0m\u001b[0;34m,\u001b[0m \u001b[0mannot\u001b[0m\u001b[0;34m=\u001b[0m\u001b[0;32mFalse\u001b[0m\u001b[0;34m)\u001b[0m\u001b[0;34m\u001b[0m\u001b[0;34m\u001b[0m\u001b[0m\n\u001b[0m\u001b[1;32m      4\u001b[0m \u001b[0mplt\u001b[0m\u001b[0;34m.\u001b[0m\u001b[0mtitle\u001b[0m\u001b[0;34m(\u001b[0m\u001b[0;34m\"Feature Correlation Matrix\"\u001b[0m\u001b[0;34m)\u001b[0m\u001b[0;34m\u001b[0m\u001b[0;34m\u001b[0m\u001b[0m\n\u001b[1;32m      5\u001b[0m \u001b[0mplt\u001b[0m\u001b[0;34m.\u001b[0m\u001b[0mshow\u001b[0m\u001b[0;34m(\u001b[0m\u001b[0;34m)\u001b[0m\u001b[0;34m\u001b[0m\u001b[0;34m\u001b[0m\u001b[0m\n",
            "\u001b[0;31mNameError\u001b[0m: name 'corr_matrix' is not defined"
          ]
        },
        {
          "output_type": "display_data",
          "data": {
            "text/plain": [
              "<Figure size 1200x800 with 0 Axes>"
            ]
          },
          "metadata": {}
        }
      ]
    },
    {
      "cell_type": "markdown",
      "source": [
        "### 1.07. Feature Engineering"
      ],
      "metadata": {
        "id": "f7TLf2APT7Xk"
      }
    },
    {
      "cell_type": "code",
      "source": [
        "# Step 5: Feature Analysis\n",
        "# Let's examine a couple of features, e.g., \"Feature_0\" and \"Feature_1\"\n",
        "plt.figure(figsize=(12, 5))\n",
        "plt.subplot(1, 2, 1)\n",
        "sns.histplot(data[\"Feature_0\"], bins=30, kde=True)\n",
        "plt.title(\"Feature_0 Distribution\")\n",
        "plt.subplot(1, 2, 2)\n",
        "sns.histplot(data[\"Feature_1\"], bins=30, kde=True)\n",
        "plt.title(\"Feature_1 Distribution\")\n",
        "plt.show()"
      ],
      "metadata": {
        "id": "kLltMC9NT-Ee",
        "colab": {
          "base_uri": "https://localhost:8080/",
          "height": 487
        },
        "outputId": "01e206d7-355a-4fa7-b1e4-8866a7e6cb3b"
      },
      "execution_count": null,
      "outputs": [
        {
          "output_type": "display_data",
          "data": {
            "text/plain": [
              "<Figure size 1200x500 with 2 Axes>"
            ],
            "image/png": "[encoded data removed]"
          },
          "metadata": {}
        }
      ]
    },
    {
      "cell_type": "markdown",
      "source": [
        "### 1.08. Outlier Detection and Handling"
      ],
      "metadata": {
        "id": "FQG7pt_XT-TU"
      }
    },
    {
      "cell_type": "code",
      "source": [
        "# Step 8: Outlier Detection and Handling,\n",
        "# These steps involve additional data manipulation, which can be done based on your specific goals.\n"
      ],
      "metadata": {
        "id": "_BSw3z9BUBi6"
      },
      "execution_count": null,
      "outputs": []
    },
    {
      "cell_type": "markdown",
      "source": [
        "### 1.09. Data Preprocessing"
      ],
      "metadata": {
        "id": "Etpbb3jHUB-b"
      }
    },
    {
      "cell_type": "code",
      "source": [
        "# Step 9: Data Preprocessing"
      ],
      "metadata": {
        "id": "X_9siQbUUDTh"
      },
      "execution_count": null,
      "outputs": []
    },
    {
      "cell_type": "markdown",
      "source": [
        "### 1.10. Class Imbalance Handling"
      ],
      "metadata": {
        "id": "u-GbjBZyUDiC"
      }
    },
    {
      "cell_type": "code",
      "source": [
        "# Step 10: Class Imbalance Handling (if applicable)"
      ],
      "metadata": {
        "id": "AU_Bg1dzUN8l"
      },
      "execution_count": null,
      "outputs": []
    },
    {
      "cell_type": "markdown",
      "source": [
        "### 1.11. Feature Selection"
      ],
      "metadata": {
        "id": "tjUsAaCMUONd"
      }
    },
    {
      "cell_type": "code",
      "source": [
        "# Step 11: Feature Selection"
      ],
      "metadata": {
        "id": "hjuZ1F-KUOe_"
      },
      "execution_count": null,
      "outputs": []
    },
    {
      "cell_type": "markdown",
      "source": [
        "### 1.12. Dimensionality Reduction"
      ],
      "metadata": {
        "id": "5ondKyOHUOtV"
      }
    },
    {
      "cell_type": "code",
      "source": [
        "# Step 12: Dimensionality Reduction"
      ],
      "metadata": {
        "id": "-qCy39r-UrEV"
      },
      "execution_count": null,
      "outputs": []
    },
    {
      "cell_type": "markdown",
      "source": [
        "### 1.13. Model Building"
      ],
      "metadata": {
        "id": "_ftob6OBUraD"
      }
    },
    {
      "cell_type": "code",
      "source": [],
      "metadata": {
        "id": "9BT5cvyYUs4s"
      },
      "execution_count": null,
      "outputs": []
    },
    {
      "cell_type": "markdown",
      "source": [
        "### 1.14. Further Analysis"
      ],
      "metadata": {
        "id": "Uumd_sBFUtJD"
      }
    },
    {
      "cell_type": "code",
      "source": [],
      "metadata": {
        "id": "bLRyeN0FUvh6"
      },
      "execution_count": null,
      "outputs": []
    },
    {
      "cell_type": "markdown",
      "source": [
        "### 1.15. Documentation and Reporting"
      ],
      "metadata": {
        "id": "jV4TDkpeUxGC"
      }
    },
    {
      "cell_type": "code",
      "source": [],
      "metadata": {
        "id": "Z2m5JMU4UyU6"
      },
      "execution_count": null,
      "outputs": []
    },
    {
      "cell_type": "markdown",
      "source": [
        "## 2.0 Model Construction"
      ],
      "metadata": {
        "id": "WCB9kOfxoZ0k"
      }
    },
    {
      "cell_type": "code",
      "execution_count": null,
      "metadata": {
        "id": "9GG_nmE0Edi3"
      },
      "outputs": [],
      "source": [
        "# Split the data into features (X) and target (y)\n",
        "X = data.drop(\"Diagnosis\", axis=1)\n",
        "y = data[\"Diagnosis\"]"
      ]
    },
    {
      "cell_type": "markdown",
      "source": [],
      "metadata": {
        "id": "ORBQe7dYUygi"
      }
    },
    {
      "cell_type": "code",
      "source": [
        "# Split the data into training and testing sets\n",
        "X_train, X_test, y_train, y_test = train_test_split(X, y, test_size=0.2, random_state=42)"
      ],
      "metadata": {
        "id": "CSriwD4UpGxE"
      },
      "execution_count": null,
      "outputs": []
    },
    {
      "cell_type": "markdown",
      "source": [],
      "metadata": {
        "id": "hLOYclDqpIiO"
      }
    },
    {
      "cell_type": "code",
      "source": [
        "# Feature scaling\n",
        "scaler = StandardScaler()\n",
        "X_train = scaler.fit_transform(X_train)\n",
        "X_test = scaler.transform(X_test)"
      ],
      "metadata": {
        "id": "IgnBXIGdFUij"
      },
      "execution_count": null,
      "outputs": []
    },
    {
      "cell_type": "markdown",
      "source": [
        "### 2.01. Logistic Regression"
      ],
      "metadata": {
        "id": "Bj-kflm9pKQC"
      }
    },
    {
      "cell_type": "code",
      "source": [
        "# Logistic Regression\n",
        "logistic_model = LogisticRegression()\n",
        "logistic_model.fit(X_train, y_train)\n",
        "y_pred_logistic = logistic_model.predict(X_test)"
      ],
      "metadata": {
        "id": "ZxX7hnPyFXDT"
      },
      "execution_count": null,
      "outputs": []
    },
    {
      "cell_type": "code",
      "source": [
        "# Display model performance\n",
        "print(\"Logistic Regression:\")\n",
        "print(f\"Accuracy: {accuracy_logistic:.2f}\")\n",
        "print(\"Confusion Matrix:\\n\", conf_matrix_logistic)\n",
        "print(\"Classification Report:\\n\", class_report_logistic)"
      ],
      "metadata": {
        "colab": {
          "base_uri": "https://localhost:8080/"
        },
        "id": "HNhQRbhvqotf",
        "outputId": "d6e86bab-e1d5-4cbf-bad8-ed6cd4ab89f4"
      },
      "execution_count": null,
      "outputs": [
        {
          "output_type": "stream",
          "name": "stdout",
          "text": [
            "Logistic Regression:\n",
            "Accuracy: 0.97\n",
            "Confusion Matrix:\n",
            " [[70  1]\n",
            " [ 2 41]]\n",
            "Classification Report:\n",
            "               precision    recall  f1-score   support\n",
            "\n",
            "           B       0.97      0.99      0.98        71\n",
            "           M       0.98      0.95      0.96        43\n",
            "\n",
            "    accuracy                           0.97       114\n",
            "   macro avg       0.97      0.97      0.97       114\n",
            "weighted avg       0.97      0.97      0.97       114\n",
            "\n"
          ]
        }
      ]
    },
    {
      "cell_type": "markdown",
      "source": [
        "### 2.02. Decision"
      ],
      "metadata": {
        "id": "xZcS6GNhpeFl"
      }
    },
    {
      "cell_type": "code",
      "source": [
        "# Decision Trees\n",
        "decision_tree_model = DecisionTreeClassifier()\n",
        "decision_tree_model.fit(X_train, y_train)\n",
        "y_pred_decision_tree = decision_tree_model.predict(X_test)"
      ],
      "metadata": {
        "id": "3CQKRVL4FtYH"
      },
      "execution_count": null,
      "outputs": []
    },
    {
      "cell_type": "markdown",
      "source": [
        "### 2.03. k-Nearest Neighbors"
      ],
      "metadata": {
        "id": "eJSczgGRpgoD"
      }
    },
    {
      "cell_type": "code",
      "source": [
        "# k-Nearest Neighbors (k-NN)\n",
        "knn_model = KNeighborsClassifier()\n",
        "knn_model.fit(X_train, y_train)\n",
        "y_pred_knn = knn_model.predict(X_test)"
      ],
      "metadata": {
        "id": "X-mAqSXtFzFf"
      },
      "execution_count": null,
      "outputs": []
    },
    {
      "cell_type": "markdown",
      "source": [
        "### 2.04. Naive Bayes"
      ],
      "metadata": {
        "id": "2neDn8UGpkLD"
      }
    },
    {
      "cell_type": "code",
      "source": [
        "# Naive Bayes\n",
        "naive_bayes_model = GaussianNB()\n",
        "naive_bayes_model.fit(X_train, y_train)\n",
        "y_pred_naive_bayes = naive_bayes_model.predict(X_test)"
      ],
      "metadata": {
        "id": "gH9wDNeTF12O"
      },
      "execution_count": null,
      "outputs": []
    },
    {
      "cell_type": "markdown",
      "source": [
        "### 2.05. Gradient Boosting (XGBoost)"
      ],
      "metadata": {
        "id": "9IvjNKg0p-RQ"
      }
    },
    {
      "cell_type": "code",
      "source": [
        "# Gradient Boosting (XGBoost)\n",
        "#from sklearn.preprocessing import LabelBinarizer\n",
        "#xgboost_model = XGBClassifier()\n",
        "#le = LabelEncoder()\n",
        "#y_train_xgb = le.fit(y_train)\n",
        "#xgboost_model.fit(X_train, y_train_xgb)\n",
        "#y_pred_xgboost = xgboost_model.predict(X_test)"
      ],
      "metadata": {
        "id": "N37YzPsJF5J3"
      },
      "execution_count": null,
      "outputs": []
    },
    {
      "cell_type": "markdown",
      "source": [],
      "metadata": {
        "id": "U87Fc6ZL5QiW"
      }
    },
    {
      "cell_type": "markdown",
      "source": [
        "We write a simple function to perform model evaluation"
      ],
      "metadata": {
        "id": "BT7ygwonqGzH"
      }
    },
    {
      "cell_type": "code",
      "source": [
        "# Model Evaluation Function\n",
        "def evaluate_model(model, y_true, y_pred):\n",
        "    accuracy = accuracy_score(y_true, y_pred)\n",
        "    conf_matrix = confusion_matrix(y_true, y_pred)\n",
        "    class_report = classification_report(y_true, y_pred)\n",
        "    return accuracy, conf_matrix, class_report"
      ],
      "metadata": {
        "id": "AQbUYkddF6QH"
      },
      "execution_count": null,
      "outputs": []
    },
    {
      "cell_type": "code",
      "source": [
        "# Evaluate each model\n",
        "accuracy_logistic, conf_matrix_logistic, class_report_logistic = evaluate_model(logistic_model, y_test, y_pred_logistic)\n",
        "print(f\"Accuracy of Logistic Regression Model: \", accuracy_logistic)\n",
        "print(f\"Confusion Matrix of Logistic Regression Model: \", conf_matrix_logistic)\n",
        "print(f\"Class Report of Logistic Regression Model: \", class_report_logistic)\n",
        "#accuracy_xgboost, conf_matrix_xgboost, class_report_xgboost = evaluate_model(xgboost_model, y_test, y_pred_xgboost)\n",
        "\n",
        "# Display model performance"
      ],
      "metadata": {
        "colab": {
          "base_uri": "https://localhost:8080/"
        },
        "id": "pynxZzxJF6mZ",
        "outputId": "c3584cb4-8b8a-44df-b476-927cb7124bd4"
      },
      "execution_count": null,
      "outputs": [
        {
          "output_type": "stream",
          "name": "stdout",
          "text": [
            "Accuracy of Logistic Regression Model:  0.9736842105263158\n",
            "Confusion Matrix of Logistic Regression Model:  [[70  1]\n",
            " [ 2 41]]\n",
            "Class Report of Logistic Regression Model:                precision    recall  f1-score   support\n",
            "\n",
            "           B       0.97      0.99      0.98        71\n",
            "           M       0.98      0.95      0.96        43\n",
            "\n",
            "    accuracy                           0.97       114\n",
            "   macro avg       0.97      0.97      0.97       114\n",
            "weighted avg       0.97      0.97      0.97       114\n",
            "\n"
          ]
        }
      ]
    },
    {
      "cell_type": "code",
      "source": [
        "accuracy_decision_tree, conf_matrix_decision_tree, class_report_decision_tree = evaluate_model(decision_tree_model, y_test, y_pred_decision_tree)\n",
        "print(f\"Accuracy of Decision Tree Model: \", accuracy_decision_tree)\n",
        "print(f\"Confusion Decision Tree Model: \", conf_matrix_decision_tree)\n",
        "print(f\"Class Report of Decision Tree Model: \", class_report_decision_tree)"
      ],
      "metadata": {
        "colab": {
          "base_uri": "https://localhost:8080/"
        },
        "id": "DQ7wB1ef6L5v",
        "outputId": "313ef31c-f5e0-4c71-826d-9eddee5f2c4d"
      },
      "execution_count": null,
      "outputs": [
        {
          "output_type": "stream",
          "name": "stdout",
          "text": [
            "Accuracy of Decision Tree Model:  0.9298245614035088\n",
            "Confusion Decision Tree Model:  [[67  4]\n",
            " [ 4 39]]\n",
            "Class Report of Decision Tree Model:                precision    recall  f1-score   support\n",
            "\n",
            "           B       0.94      0.94      0.94        71\n",
            "           M       0.91      0.91      0.91        43\n",
            "\n",
            "    accuracy                           0.93       114\n",
            "   macro avg       0.93      0.93      0.93       114\n",
            "weighted avg       0.93      0.93      0.93       114\n",
            "\n"
          ]
        }
      ]
    },
    {
      "cell_type": "code",
      "source": [
        "accuracy_knn, conf_matrix_knn, class_report_knn = evaluate_model(knn_model, y_test, y_pred_knn)\n",
        "print(f\"Accuracy of K-Nearest Neighbors Model: \", accuracy_knn)\n",
        "print(f\"Confusion Matrix of K-Nearest Neighbors Model: \", conf_matrix_knn)\n",
        "print(f\"Class Report of K-Nearest Neighbors Model: \", class_report_knn)"
      ],
      "metadata": {
        "colab": {
          "base_uri": "https://localhost:8080/"
        },
        "id": "hV2QK0jd6XId",
        "outputId": "cee267cc-0e0c-4c08-e2bc-04a50a026bbc"
      },
      "execution_count": null,
      "outputs": [
        {
          "output_type": "stream",
          "name": "stdout",
          "text": [
            "Accuracy of K-Nearest Neighbors Model:  0.9473684210526315\n",
            "Confusion Matrix of K-Nearest Neighbors Model:  [[68  3]\n",
            " [ 3 40]]\n",
            "Class Report of K-Nearest Neighbors Model:                precision    recall  f1-score   support\n",
            "\n",
            "           B       0.96      0.96      0.96        71\n",
            "           M       0.93      0.93      0.93        43\n",
            "\n",
            "    accuracy                           0.95       114\n",
            "   macro avg       0.94      0.94      0.94       114\n",
            "weighted avg       0.95      0.95      0.95       114\n",
            "\n"
          ]
        }
      ]
    },
    {
      "cell_type": "code",
      "source": [
        "accuracy_naive_bayes, conf_matrix_naive_bayes, class_report_naive_bayes = evaluate_model(naive_bayes_model, y_test, y_pred_naive_bayes)\n",
        "print(f\"Accuracy of Naive Bayes Model: \", accuracy_naive_bayes)\n",
        "print(f\"Confusion Matrix of Naive Bayes Model: \", conf_matrix_naive_bayes)\n",
        "print(f\"Class Report of Naive Bayes Model: \", class_report_naive_bayes)"
      ],
      "metadata": {
        "colab": {
          "base_uri": "https://localhost:8080/"
        },
        "id": "kIigfbbh6YVV",
        "outputId": "b63e4767-e2f6-41f4-c778-02654b14141a"
      },
      "execution_count": null,
      "outputs": [
        {
          "output_type": "stream",
          "name": "stdout",
          "text": [
            "Accuracy of Naive Bayes Model:  0.9649122807017544\n",
            "Confusion Matrix of Naive Bayes Model:  [[70  1]\n",
            " [ 3 40]]\n",
            "Class Report of Naive Bayes Model:                precision    recall  f1-score   support\n",
            "\n",
            "           B       0.96      0.99      0.97        71\n",
            "           M       0.98      0.93      0.95        43\n",
            "\n",
            "    accuracy                           0.96       114\n",
            "   macro avg       0.97      0.96      0.96       114\n",
            "weighted avg       0.97      0.96      0.96       114\n",
            "\n"
          ]
        }
      ]
    },
    {
      "cell_type": "markdown",
      "source": [
        "## 3.0 Hypeparamater Tuning\n",
        "\n",
        "Hyperparameter tuning is an essential step in optimizing machine learning models for better performance. For the machine learning models created above, including Logistic Regression, Decision Trees, k-Nearest Neighbors (k-NN), Naive Bayes, and Gradient Boosting (XGBoost), there are several hyperparameters you can tune to improve their performance. Here are some common hyperparameter tuning options for each of these algorithms:\n",
        "\n",
        "**1. Logistic Regression:**\n",
        "\n",
        "- **`C:`** The regularization parameter. You can perform grid search or random search to find the optimal value of `C`.\n",
        "- **`penalty`:** The type of regularization (L1 or L2). You can choose the best type based on your data.\n",
        "\n",
        "**2. Decision Trees:**\n",
        "\n",
        "- **`max_depth`:** The maximum depth of the decision tree.\n",
        "- **`min_samples_split`**: The minimum number of samples required to split an internal node.\n",
        "- **`min_samples_leaf`**: The minimum number of samples required to be at a leaf node.\n",
        "- **`max_features`**: The maximum number of features to consider for the best split.\n",
        "\n",
        "**3. k-Nearest Neighbors (k-NN):**\n",
        "\n",
        "- **`n_neighbors`:** The number of neighbors to consider.\n",
        "- **`weights`:** The weight function used in prediction (uniform or distance).\n",
        "- **`p`:** The power parameter for the Minkowski distance metric (1 for Manhattan, 2 for Euclidean, etc.).\n",
        "\n",
        "**4. Naive Bayes (Gaussian NB):**\n",
        "\n",
        "- Naive Bayes typically doesn't have many hyperparameters to tune. However, you can consider smoothing (Laplace or Lidstone smoothing) if dealing with sparse data.\n",
        "\n",
        "**5. Gradient Boosting (XGBoost):**\n",
        "\n",
        "- **`learning_rate`** (or **`eta`**): The step size shrinkage used to prevent overfitting.\n",
        "- **`n_estimators`** (or **`num_boost_round`**): The number of boosting rounds or trees.\n",
        "- **`max_depth`**: The maximum depth of each tree.\n",
        "- **`min_child_weight`**: The minimum sum of instance weight (hessian) needed in a child.\n",
        "- **`subsample`**: The fraction of samples used for fitting the trees.\n",
        "- **`colsample_bytree`**: The fraction of features used for fitting the trees.\n",
        "- **`lambda`** (L2 regularization term): Regularization to prevent overfitting.\n",
        "- **`alpha`** (L1 regularization term): Regularization to prevent overfitting.\n",
        "\n",
        "- You can also consider early stopping, which monitors validation performance and stops training when performance stops improving.\n",
        "\n",
        "For all these algorithms, you can use techniques like grid search, random search, or Bayesian optimization to search for the best combination of hyperparameters. Additionally, consider cross-validation to assess the model's performance under different hyperparameter settings. The specific hyperparameters and their ranges should be determined based on the dataset and the problem you are trying to solve.\n",
        "\n"
      ],
      "metadata": {
        "id": "AQCJaUSv89w6"
      }
    },
    {
      "cell_type": "markdown",
      "source": [
        "### 3.01 Hyperparameter Tuning for Logistic Regression Model"
      ],
      "metadata": {
        "id": "qtQRebKt-9fK"
      }
    },
    {
      "cell_type": "code",
      "source": [
        "from sklearn.model_selection import GridSearchCV\n",
        "\n",
        "# Define the hyperparameters to tune and their possible values\n",
        "param_grid = {\n",
        "    'C': [0.001, 0.01, 0.1, 1, 10, 100],\n",
        "    'penalty': ['l1', 'l2']\n",
        "}\n",
        "\n",
        "# Perform grid search using cross-validation (e.g., 5-fold cross-validation)\n",
        "grid_search = GridSearchCV(logistic_model, param_grid, cv=5, scoring='accuracy')\n",
        "grid_search.fit(X_train, y_train)\n",
        "\n",
        "# Get the best hyperparameters\n",
        "best_params = grid_search.best_params_\n",
        "\n",
        "# Train a new Logistic Regression model with the best hyperparameters\n",
        "best_logistic_model = LogisticRegression(C=best_params['C'], penalty=best_params['penalty'])\n",
        "best_logistic_model.fit(X_train, y_train)\n",
        "\n",
        "# Evaluate the best model\n",
        "y_pred = best_logistic_model.predict(X_test)\n",
        "accuracy = accuracy_score(y_test, y_pred)\n",
        "print(f\"Best Logistic Regression Model - Accuracy: {accuracy:.2f}\")"
      ],
      "metadata": {
        "colab": {
          "base_uri": "https://localhost:8080/",
          "height": 403
        },
        "id": "URi3Va5y9t5a",
        "outputId": "0c07c5eb-5a87-4b78-d77a-569f0b6c53c0"
      },
      "execution_count": null,
      "outputs": [
        {
          "output_type": "error",
          "ename": "TypeError",
          "evalue": "ignored",
          "traceback": [
            "\u001b[0;31m---------------------------------------------------------------------------\u001b[0m",
            "\u001b[0;31mTypeError\u001b[0m                                 Traceback (most recent call last)",
            "\u001b[0;32m<ipython-input-39-23967e3c1ee1>\u001b[0m in \u001b[0;36m<cell line: 11>\u001b[0;34m()\u001b[0m\n\u001b[1;32m      9\u001b[0m \u001b[0;31m# Perform grid search using cross-validation (e.g., 5-fold cross-validation)\u001b[0m\u001b[0;34m\u001b[0m\u001b[0;34m\u001b[0m\u001b[0m\n\u001b[1;32m     10\u001b[0m \u001b[0mgrid_search\u001b[0m \u001b[0;34m=\u001b[0m \u001b[0mGridSearchCV\u001b[0m\u001b[0;34m(\u001b[0m\u001b[0mlogistic_model\u001b[0m\u001b[0;34m,\u001b[0m \u001b[0mparam_grid\u001b[0m\u001b[0;34m,\u001b[0m \u001b[0mcv\u001b[0m\u001b[0;34m=\u001b[0m\u001b[0;36m5\u001b[0m\u001b[0;34m,\u001b[0m \u001b[0mscoring\u001b[0m\u001b[0;34m=\u001b[0m\u001b[0;34m'accuracy'\u001b[0m\u001b[0;34m)\u001b[0m\u001b[0;34m\u001b[0m\u001b[0;34m\u001b[0m\u001b[0m\n\u001b[0;32m---> 11\u001b[0;31m \u001b[0mgrid_search\u001b[0m\u001b[0;34m.\u001b[0m\u001b[0mfit\u001b[0m\u001b[0;34m(\u001b[0m\u001b[0mX_train\u001b[0m\u001b[0;34m,\u001b[0m \u001b[0my_train\u001b[0m\u001b[0;34m)\u001b[0m\u001b[0;34m\u001b[0m\u001b[0;34m\u001b[0m\u001b[0m\n\u001b[0m\u001b[1;32m     12\u001b[0m \u001b[0;34m\u001b[0m\u001b[0m\n\u001b[1;32m     13\u001b[0m \u001b[0;31m# Get the best hyperparameters\u001b[0m\u001b[0;34m\u001b[0m\u001b[0;34m\u001b[0m\u001b[0m\n",
            "\u001b[0;32m/usr/local/lib/python3.10/dist-packages/sklearn/model_selection/_search.py\u001b[0m in \u001b[0;36mfit\u001b[0;34m(self, X, y, groups, **fit_params)\u001b[0m\n\u001b[1;32m    780\u001b[0m             \u001b[0mrefit_metric\u001b[0m \u001b[0;34m=\u001b[0m \u001b[0mself\u001b[0m\u001b[0;34m.\u001b[0m\u001b[0mrefit\u001b[0m\u001b[0;34m\u001b[0m\u001b[0;34m\u001b[0m\u001b[0m\n\u001b[1;32m    781\u001b[0m \u001b[0;34m\u001b[0m\u001b[0m\n\u001b[0;32m--> 782\u001b[0;31m         \u001b[0mX\u001b[0m\u001b[0;34m,\u001b[0m \u001b[0my\u001b[0m\u001b[0;34m,\u001b[0m \u001b[0mgroups\u001b[0m \u001b[0;34m=\u001b[0m \u001b[0mindexable\u001b[0m\u001b[0;34m(\u001b[0m\u001b[0mX\u001b[0m\u001b[0;34m,\u001b[0m \u001b[0my\u001b[0m\u001b[0;34m,\u001b[0m \u001b[0mgroups\u001b[0m\u001b[0;34m)\u001b[0m\u001b[0;34m\u001b[0m\u001b[0;34m\u001b[0m\u001b[0m\n\u001b[0m\u001b[1;32m    783\u001b[0m         \u001b[0mfit_params\u001b[0m \u001b[0;34m=\u001b[0m \u001b[0m_check_fit_params\u001b[0m\u001b[0;34m(\u001b[0m\u001b[0mX\u001b[0m\u001b[0;34m,\u001b[0m \u001b[0mfit_params\u001b[0m\u001b[0;34m)\u001b[0m\u001b[0;34m\u001b[0m\u001b[0;34m\u001b[0m\u001b[0m\n\u001b[1;32m    784\u001b[0m \u001b[0;34m\u001b[0m\u001b[0m\n",
            "\u001b[0;32m/usr/local/lib/python3.10/dist-packages/sklearn/utils/validation.py\u001b[0m in \u001b[0;36mindexable\u001b[0;34m(*iterables)\u001b[0m\n\u001b[1;32m    441\u001b[0m \u001b[0;34m\u001b[0m\u001b[0m\n\u001b[1;32m    442\u001b[0m     \u001b[0mresult\u001b[0m \u001b[0;34m=\u001b[0m \u001b[0;34m[\u001b[0m\u001b[0m_make_indexable\u001b[0m\u001b[0;34m(\u001b[0m\u001b[0mX\u001b[0m\u001b[0;34m)\u001b[0m \u001b[0;32mfor\u001b[0m \u001b[0mX\u001b[0m \u001b[0;32min\u001b[0m \u001b[0miterables\u001b[0m\u001b[0;34m]\u001b[0m\u001b[0;34m\u001b[0m\u001b[0;34m\u001b[0m\u001b[0m\n\u001b[0;32m--> 443\u001b[0;31m     \u001b[0mcheck_consistent_length\u001b[0m\u001b[0;34m(\u001b[0m\u001b[0;34m*\u001b[0m\u001b[0mresult\u001b[0m\u001b[0;34m)\u001b[0m\u001b[0;34m\u001b[0m\u001b[0;34m\u001b[0m\u001b[0m\n\u001b[0m\u001b[1;32m    444\u001b[0m     \u001b[0;32mreturn\u001b[0m \u001b[0mresult\u001b[0m\u001b[0;34m\u001b[0m\u001b[0;34m\u001b[0m\u001b[0m\n\u001b[1;32m    445\u001b[0m \u001b[0;34m\u001b[0m\u001b[0m\n",
            "\u001b[0;32m/usr/local/lib/python3.10/dist-packages/sklearn/utils/validation.py\u001b[0m in \u001b[0;36mcheck_consistent_length\u001b[0;34m(*arrays)\u001b[0m\n\u001b[1;32m    392\u001b[0m     \"\"\"\n\u001b[1;32m    393\u001b[0m \u001b[0;34m\u001b[0m\u001b[0m\n\u001b[0;32m--> 394\u001b[0;31m     \u001b[0mlengths\u001b[0m \u001b[0;34m=\u001b[0m \u001b[0;34m[\u001b[0m\u001b[0m_num_samples\u001b[0m\u001b[0;34m(\u001b[0m\u001b[0mX\u001b[0m\u001b[0;34m)\u001b[0m \u001b[0;32mfor\u001b[0m \u001b[0mX\u001b[0m \u001b[0;32min\u001b[0m \u001b[0marrays\u001b[0m \u001b[0;32mif\u001b[0m \u001b[0mX\u001b[0m \u001b[0;32mis\u001b[0m \u001b[0;32mnot\u001b[0m \u001b[0;32mNone\u001b[0m\u001b[0;34m]\u001b[0m\u001b[0;34m\u001b[0m\u001b[0;34m\u001b[0m\u001b[0m\n\u001b[0m\u001b[1;32m    395\u001b[0m     \u001b[0muniques\u001b[0m \u001b[0;34m=\u001b[0m \u001b[0mnp\u001b[0m\u001b[0;34m.\u001b[0m\u001b[0munique\u001b[0m\u001b[0;34m(\u001b[0m\u001b[0mlengths\u001b[0m\u001b[0;34m)\u001b[0m\u001b[0;34m\u001b[0m\u001b[0;34m\u001b[0m\u001b[0m\n\u001b[1;32m    396\u001b[0m     \u001b[0;32mif\u001b[0m \u001b[0mlen\u001b[0m\u001b[0;34m(\u001b[0m\u001b[0muniques\u001b[0m\u001b[0;34m)\u001b[0m \u001b[0;34m>\u001b[0m \u001b[0;36m1\u001b[0m\u001b[0;34m:\u001b[0m\u001b[0;34m\u001b[0m\u001b[0;34m\u001b[0m\u001b[0m\n",
            "\u001b[0;32m/usr/local/lib/python3.10/dist-packages/sklearn/utils/validation.py\u001b[0m in \u001b[0;36m<listcomp>\u001b[0;34m(.0)\u001b[0m\n\u001b[1;32m    392\u001b[0m     \"\"\"\n\u001b[1;32m    393\u001b[0m \u001b[0;34m\u001b[0m\u001b[0m\n\u001b[0;32m--> 394\u001b[0;31m     \u001b[0mlengths\u001b[0m \u001b[0;34m=\u001b[0m \u001b[0;34m[\u001b[0m\u001b[0m_num_samples\u001b[0m\u001b[0;34m(\u001b[0m\u001b[0mX\u001b[0m\u001b[0;34m)\u001b[0m \u001b[0;32mfor\u001b[0m \u001b[0mX\u001b[0m \u001b[0;32min\u001b[0m \u001b[0marrays\u001b[0m \u001b[0;32mif\u001b[0m \u001b[0mX\u001b[0m \u001b[0;32mis\u001b[0m \u001b[0;32mnot\u001b[0m \u001b[0;32mNone\u001b[0m\u001b[0;34m]\u001b[0m\u001b[0;34m\u001b[0m\u001b[0;34m\u001b[0m\u001b[0m\n\u001b[0m\u001b[1;32m    395\u001b[0m     \u001b[0muniques\u001b[0m \u001b[0;34m=\u001b[0m \u001b[0mnp\u001b[0m\u001b[0;34m.\u001b[0m\u001b[0munique\u001b[0m\u001b[0;34m(\u001b[0m\u001b[0mlengths\u001b[0m\u001b[0;34m)\u001b[0m\u001b[0;34m\u001b[0m\u001b[0;34m\u001b[0m\u001b[0m\n\u001b[1;32m    396\u001b[0m     \u001b[0;32mif\u001b[0m \u001b[0mlen\u001b[0m\u001b[0;34m(\u001b[0m\u001b[0muniques\u001b[0m\u001b[0;34m)\u001b[0m \u001b[0;34m>\u001b[0m \u001b[0;36m1\u001b[0m\u001b[0;34m:\u001b[0m\u001b[0;34m\u001b[0m\u001b[0;34m\u001b[0m\u001b[0m\n",
            "\u001b[0;32m/usr/local/lib/python3.10/dist-packages/sklearn/utils/validation.py\u001b[0m in \u001b[0;36m_num_samples\u001b[0;34m(x)\u001b[0m\n\u001b[1;32m    333\u001b[0m     \u001b[0;32mif\u001b[0m \u001b[0mhasattr\u001b[0m\u001b[0;34m(\u001b[0m\u001b[0mx\u001b[0m\u001b[0;34m,\u001b[0m \u001b[0;34m\"shape\"\u001b[0m\u001b[0;34m)\u001b[0m \u001b[0;32mand\u001b[0m \u001b[0mx\u001b[0m\u001b[0;34m.\u001b[0m\u001b[0mshape\u001b[0m \u001b[0;32mis\u001b[0m \u001b[0;32mnot\u001b[0m \u001b[0;32mNone\u001b[0m\u001b[0;34m:\u001b[0m\u001b[0;34m\u001b[0m\u001b[0;34m\u001b[0m\u001b[0m\n\u001b[1;32m    334\u001b[0m         \u001b[0;32mif\u001b[0m \u001b[0mlen\u001b[0m\u001b[0;34m(\u001b[0m\u001b[0mx\u001b[0m\u001b[0;34m.\u001b[0m\u001b[0mshape\u001b[0m\u001b[0;34m)\u001b[0m \u001b[0;34m==\u001b[0m \u001b[0;36m0\u001b[0m\u001b[0;34m:\u001b[0m\u001b[0;34m\u001b[0m\u001b[0;34m\u001b[0m\u001b[0m\n\u001b[0;32m--> 335\u001b[0;31m             raise TypeError(\n\u001b[0m\u001b[1;32m    336\u001b[0m                 \u001b[0;34m\"Singleton array %r cannot be considered a valid collection.\"\u001b[0m \u001b[0;34m%\u001b[0m \u001b[0mx\u001b[0m\u001b[0;34m\u001b[0m\u001b[0;34m\u001b[0m\u001b[0m\n\u001b[1;32m    337\u001b[0m             )\n",
            "\u001b[0;31mTypeError\u001b[0m: Singleton array array(LabelEncoder(), dtype=object) cannot be considered a valid collection."
          ]
        }
      ]
    },
    {
      "cell_type": "markdown",
      "source": [
        "### 3.02 Hyperparameter Tuning for Decision Trees Model"
      ],
      "metadata": {
        "id": "zFplrnmx9uJ7"
      }
    },
    {
      "cell_type": "code",
      "source": [
        "from sklearn.tree import DecisionTreeClassifier\n",
        "\n",
        "# Create a Decision Tree model\n",
        "decision_tree_model = DecisionTreeClassifier(random_state=42)\n",
        "\n",
        "# Define the hyperparameters to tune and their possible values\n",
        "param_grid = {\n",
        "    'max_depth': [None, 10, 20, 30],\n",
        "    'min_samples_split': [2, 5, 10],\n",
        "    'min_samples_leaf': [1, 2, 4],\n",
        "    'max_features': ['auto', 'sqrt', 'log2']\n",
        "}\n",
        "\n",
        "# Perform grid search using cross-validation (e.g., 5-fold cross-validation)\n",
        "grid_search = GridSearchCV(decision_tree_model, param_grid, cv=5, scoring='accuracy')\n",
        "grid_search.fit(X_train, y_train)\n",
        "\n",
        "# Get the best hyperparameters\n",
        "best_params = grid_search.best_params_\n",
        "\n",
        "# Train a new Decision Tree model with the best hyperparameters\n",
        "best_decision_tree_model = DecisionTreeClassifier(\n",
        "    max_depth=best_params['max_depth'],\n",
        "    min_samples_split=best_params['min_samples_split'],\n",
        "    min_samples_leaf=best_params['min_samples_leaf'],\n",
        "    max_features=best_params['max_features'],\n",
        "    random_state=42\n",
        ")\n",
        "best_decision_tree_model.fit(X_train, y_train)\n",
        "\n",
        "# Evaluate the best model\n",
        "y_pred = best_decision_tree_model.predict(X_test)\n",
        "accuracy = accuracy_score(y_test, y_pred)\n",
        "print(f\"Best Decision Tree Model - Accuracy: {accuracy:.2f}\")"
      ],
      "metadata": {
        "id": "OfNozR5tAlZZ"
      },
      "execution_count": null,
      "outputs": []
    },
    {
      "cell_type": "markdown",
      "source": [
        "### 3.03 Hyperparameter Tuning for k-Nearest Neighbors Model"
      ],
      "metadata": {
        "id": "QN5pE7WKAlrA"
      }
    },
    {
      "cell_type": "code",
      "source": [],
      "metadata": {
        "id": "trf3i4h4AnWx"
      },
      "execution_count": null,
      "outputs": []
    },
    {
      "cell_type": "markdown",
      "source": [
        "### 3.04 Hyperparameter Tuning for Naive Bayes Model"
      ],
      "metadata": {
        "id": "nOxRLO7SAnng"
      }
    },
    {
      "cell_type": "code",
      "source": [],
      "metadata": {
        "id": "psbtSwyRAxuo"
      },
      "execution_count": null,
      "outputs": []
    },
    {
      "cell_type": "markdown",
      "source": [
        "## Model Deployment\n",
        "\n",
        "Model deployment is the process of taking a trained machine learning model and making it available for use in real-world applications. There are several options for deploying classification models, including the following:\n",
        "\n",
        "**1. Local Deployment:**\n",
        "\n",
        " - **Standalone Application:** You can create a standalone application (e.g., a desktop app) that uses the model for classification. This is suitable for scenarios where the model doesn't need to be accessed by multiple users simultaneously.\n",
        "\n",
        "**2. Web-based Deployment:**\n",
        "\n",
        "- **Web Application:** Build a web application using frameworks like Flask, Django, or FastAPI to serve your model via an API. This allows users to interact with the model through a web interface.\n",
        "- **Serverless Functions:** Deploy the model as a serverless function using platforms like AWS Lambda, Google Cloud Functions, or Azure Functions. These functions can be triggered by API requests or other events.\n",
        "- **Docker Containers:** Package your model and its dependencies into a Docker container and deploy it on container orchestration platforms like Docker Swarm or Kubernetes.\n",
        "- **Platform as a Service (PaaS):** Use cloud-based PaaS solutions like Heroku, Google App Engine, or Azure App Service to deploy and host your model.\n",
        "\n",
        "**3. Cloud-based Deployment:**\n",
        "\n",
        "- **Machine Learning Platforms:** Utilize cloud-based machine learning platforms like Google AI Platform, AWS SageMaker, or Azure Machine Learning to deploy and manage your models. These platforms provide scalability and monitoring features.\n",
        "- **API Endpoints:** Create an API endpoint for your model using cloud-based API services like AWS API Gateway, Google Cloud Endpoints, or Azure API Management. This allows easy integration into various applications.\n",
        "\n",
        "**3. IoT and Edge Devices:**\n",
        "\n",
        "- Deploy models on edge devices, such as IoT devices, mobile apps, or embedded systems, for real-time inference without relying on a central server.\n",
        "\n",
        "**5. Database Integration:**\n",
        "\n",
        "- Some databases, like MongoDB and PostgreSQL, support the execution of machine learning models directly within the database. You can deploy models for classification as part of your database operations.\n",
        "\n",
        "**6. Model Monitoring and Management:**\n",
        "\n",
        "- It's essential to have a system in place to monitor the deployed model's performance, retrain it with new data, and manage versioning. Tools like MLflow, Kubeflow, and TFX can help with this.\n",
        "\n",
        "**7. API Security:**\n",
        "\n",
        "- Secure your model API endpoints to protect against unauthorized access and potential attacks.\n",
        "\n",
        "**8. Scaling and Load Balancing:**\n",
        "\n",
        "- Ensure that your deployment can handle increased load and traffic. Use load balancers and scaling strategies as needed.\n",
        "\n",
        "**9. Container Orchestration:**\n",
        "\n",
        "- If you're deploying using Docker containers, consider using container orchestration platforms like Kubernetes to manage and scale your deployed models.\n",
        "\n",
        "**10. Monitoring and Logging:**\n",
        "\n",
        "- Implement monitoring and logging solutions to track the model's performance, detect anomalies, and troubleshoot issues.\n",
        "\n",
        "**11. Compliance and Governance:**\n",
        "\n",
        "- Ensure that your model deployment complies with regulatory requirements and follows best practices for data governance and ethics.\n",
        "\n",
        "The choice of deployment option depends on your specific use case, infrastructure, and requirements. It's important to consider factors like scalability, security, maintenance, and the target audience when selecting a deployment strategy for your classification models."
      ],
      "metadata": {
        "id": "tkw-mTfgJ1ra"
      }
    },
    {
      "cell_type": "markdown",
      "source": [
        "## Model Deployment in a Jupyter Notebook\n",
        "\n",
        "In a single Jupyter notebook, you can deploy machine learning models as part of a local application. This means you can create a standalone application that incorporates your model, allowing you to make predictions within the notebook itself. However, please note that this approach is suitable for demonstration and experimentation purposes, and it may not be the most practical way to deploy models in real-world scenarios.\n",
        "\n",
        "Here are a few options for deploying a model within a Jupyter notebook:\n",
        "\n",
        "**1. Standalone Application:** You can create a simple standalone application within a Jupyter notebook using libraries like Tkinter (for desktop applications) or Flask (for web applications). This allows you to build a user interface for making predictions with your model directly within the notebook.\n",
        "\n",
        "**2. Jupyter Widgets:** Jupyter provides interactive widgets that can be used to create interactive GUI elements within the notebook. You can use ipywidgets to build a simple user interface for model deployment within the notebook.\n",
        "\n",
        "**3. Voila:** Voila is a Jupyter extension that allows you to convert a notebook into a standalone web application. You can create a Voila dashboard with interactive elements for using your model.\n",
        "\n",
        "**4. Dash by Plotly:** Dash is a framework for building interactive web applications. You can integrate your model within a Dash application directly within a Jupyter notebook.\n",
        "\n",
        "**5. Streamlit:** While Streamlit typically runs outside of Jupyter, it's a simple way to create web apps for your models with minimal code. You can write a Streamlit app in a separate Python script and execute it from the Jupyter notebook.\n",
        "\n",
        "For these options, you would need to write code within the Jupyter notebook to create the user interface and integrate the model for deployment. These solutions are primarily intended for demonstration, prototyping, or sharing results within the Jupyter environment. In production or real-world applications, you'd typically deploy models using web-based deployment, cloud services, or other more robust methods that are separate from the Jupyter notebook."
      ],
      "metadata": {
        "id": "_FYHfIMGJVhK"
      }
    },
    {
      "cell_type": "markdown",
      "source": [
        "## Monitoring and Maintenance\n",
        "\n",
        "Monitoring and maintenance of machine learning models are crucial to ensure that your models continue to perform well and provide accurate predictions over time. Here are some key options and strategies for monitoring and maintaining classification models:\n",
        "\n",
        "Regular Model Retraining:\n",
        "\n",
        "Schedule periodic retraining of your model with new data to keep it up-to-date and accurate. This ensures that the model adapts to changes in the underlying data distribution.\n",
        "Data Drift Monitoring:\n",
        "\n",
        "Implement data drift monitoring to detect shifts in the data distribution. If significant drift is detected, consider retraining the model or updating it with more recent data.\n",
        "Performance Metrics Tracking:\n",
        "\n",
        "Continuously monitor key performance metrics (e.g., accuracy, precision, recall) to identify any degradation in model performance. Implement automated alerts for significant performance drops.\n",
        "Model Versioning:\n",
        "\n",
        "Maintain a versioned history of your models. This allows you to track changes, compare model performance over time, and roll back to previous versions if needed.\n",
        "Anomaly Detection:\n",
        "\n",
        "Use anomaly detection techniques to identify unusual behavior or data points that could affect model performance. Detect anomalies in model predictions as well as in the input data.\n",
        "Logging and Auditing:\n",
        "\n",
        "Implement comprehensive logging to record model predictions, input data, and model behavior. Auditing model predictions and their explanations can help with debugging and compliance.\n",
        "Model Explainability:\n",
        "\n",
        "Utilize model explainability techniques to understand why your model makes certain predictions. Explainability helps in debugging and building trust with stakeholders.\n",
        "Alerting and Notifications:\n",
        "\n",
        "Set up alerting systems to notify relevant personnel or teams when critical model issues or anomalies are detected.\n",
        "Feedback Loops:\n",
        "\n",
        "Create feedback loops to collect feedback from end-users and domain experts. This feedback can be used to fine-tune and improve the model.\n",
        "Automated Testing:\n",
        "\n",
        "Develop automated tests for model performance and integration tests to ensure that the model functions correctly in the application.\n",
        "A/B Testing:\n",
        "\n",
        "Implement A/B testing to compare the performance of different model versions in a real-world environment. This helps in making data-driven decisions about model updates.\n",
        "Revalidation of Assumptions:\n",
        "\n",
        "Periodically revisit the assumptions made during model development and assess whether they are still valid.\n",
        "Reproducibility and Version Control:\n",
        "\n",
        "Maintain a reproducible environment for model training and inference. Use version control to track code, data, and configuration changes.\n",
        "Security Audits:\n",
        "\n",
        "Conduct regular security audits to identify vulnerabilities in your model and its deployment, especially if your model handles sensitive data.\n",
        "Compliance and Ethics:\n",
        "\n",
        "Ensure that the model and its deployment comply with legal and ethical guidelines. Implement mechanisms to protect against bias and discrimination.\n",
        "Documentation:\n",
        "\n",
        "Maintain up-to-date documentation that covers model details, training data, evaluation metrics, and deployment information. This is essential for knowledge transfer and troubleshooting.\n",
        "Capacity Planning:\n",
        "\n",
        "Monitor resource usage and capacity to ensure that the deployed model can handle expected loads and scale as needed.\n",
        "Continuous Integration/Continuous Deployment (CI/CD):\n",
        "\n",
        "Incorporate CI/CD practices to automate the deployment of new model versions, conduct testing, and ensure that deployments are error-free.\n",
        "Incident Response Plan:\n",
        "\n",
        "Develop an incident response plan to handle unforeseen issues or failures promptly and effectively.\n",
        "Feedback Loop with Stakeholders:\n",
        "\n",
        "Maintain an open and transparent communication channel with stakeholders, including data scientists, engineers, domain experts, and end-users, to address concerns and feedback.\n",
        "Monitoring and maintaining machine learning models is an ongoing process that requires collaboration between data science, engineering, and operations teams. The specific strategies and tools you use will depend on the complexity of your model, the deployment environment, and your organization's requirements.\n",
        "\n",
        "\n",
        "\n"
      ],
      "metadata": {
        "id": "CDJJC_OZIhge"
      }
    },
    {
      "cell_type": "markdown",
      "source": [
        "Monitoring and maintenance of a Logistic Regression model, as well as any machine learning model, can involve various strategies and options. Let's focus on implementing a few monitoring and maintenance options using Python code for the Logistic Regression model. Specifically, we'll look at two important aspects: performance tracking and retraining.\n",
        "\n",
        "### Performance Metrics Tracking for Logistic Regression Model:\n",
        "Monitoring performance metrics helps in identifying any degradation in the model's performance. You can set up automated alerts to notify you when significant changes occur. In this example, we'll track accuracy and send an alert if it drops below a specified threshold."
      ],
      "metadata": {
        "id": "Db2wLTVOJMA7"
      }
    },
    {
      "cell_type": "code",
      "source": [],
      "metadata": {
        "id": "cRpzxG9PI8cK"
      },
      "execution_count": null,
      "outputs": []
    },
    {
      "cell_type": "markdown",
      "source": [
        "Monitoring and maintenance of a Decision Tree model, similar to a Logistic Regression model, involves tracking performance metrics and regularly retraining the model. Here's Python code for implementing these two key aspects:\n",
        "\n",
        "### Performance Metrics Tracking for Decision Tree Model:\n",
        "To monitor the performance of the Decision Tree model, you can calculate performance metrics (e.g., accuracy) on new data and set up alerts when significant changes occur. In this example, we'll calculate accuracy and send an alert if it falls below a specified threshold."
      ],
      "metadata": {
        "id": "0Zg2DBaeI8vA"
      }
    },
    {
      "cell_type": "markdown",
      "source": [
        "## Interpretability\n",
        "\n",
        "Interpretability is a critical aspect of machine learning models, especially in applications where understanding the model's decisions is essential. Different algorithms have varying levels of interpretability. Here are the interpretability options that apply to each of the five classification machine learning algorithms:\n",
        "\n",
        "**1. Logistic Regression:**\n",
        "\n",
        "- **Feature Importance:** You can interpret the importance of each feature in the model's decision-making process. Features with higher coefficients have a stronger influence on the outcome.\n",
        "- **Coefficient Significance:** The sign (positive or negative) of the coefficients indicates the direction of influence. Positive coefficients suggest an increase in the feature is associated with a higher likelihood of the positive class.\n",
        "- **Odds Ratios:** You can calculate odds ratios to understand how the odds of the target variable change with respect to a one-unit change in a feature while holding other variables constant.\n",
        "\n",
        "**2. Decision Trees:**\n",
        "\n",
        "- **Tree Visualization:** Decision Trees are inherently interpretable. You can visualize the tree structure to understand how decisions are made at each node.\n",
        "- **Feature Importance:** Decision Trees provide feature importances based on the number of splits a feature is involved in.\n",
        "- **Rule Extraction:** You can extract rules from the decision tree to describe the logic used for predictions.\n",
        "\n",
        "**3. k-Nearest Neighbors (k-NN):**\n",
        "\n",
        "- **Local Explanation:** For a specific prediction, you can identify the k-nearest neighbors that contributed to the classification decision. This can provide insights into why a particular decision was made.\n",
        "\n",
        "**4. Naive Bayes:**\n",
        "\n",
        "- **Feature Importance:** You can examine the conditional probabilities of each feature given the class. This helps in understanding which features are more indicative of a specific class.\n",
        "\n",
        "**5. Gradient Boosting (e.g., XGBoost, LightGBM):**\n",
        "\n",
        "- **Feature Importance:** Similar to Random Forests, Gradient Boosting models can provide feature importances. You can use these importances to understand which features have the most influence.\n",
        "- **Partial Dependency Plots (PDPs):** PDPs show the relationship between a feature and the predicted outcome while keeping other features fixed. This provides insights into how individual features impact predictions.\n",
        "- **SHAP (SHapley Additive exPlanations):** SHAP values can be used to explain the impact of each feature on model predictions. They provide a more comprehensive understanding of feature contributions.\n",
        "\n",
        "The level of interpretability may also depend on the complexity of the specific model. Models like Logistic Regression and Decision Trees tend to be more interpretable compared to ensemble methods like Gradient Boosting. Interpretability tools and techniques, such as LIME (Local Interpretable Model-agnostic Explanations) or SHAP, can be used to enhance interpretability for complex models.\n",
        "\n",
        "In general, interpretability options are essential for understanding the factors that influence a model's predictions, building trust with stakeholders, and identifying potential biases or errors in the model. The choice of interpretability technique may vary based on the specific use case and the model being used."
      ],
      "metadata": {
        "id": "QIFmbGCWHtFT"
      }
    }
  ]
}